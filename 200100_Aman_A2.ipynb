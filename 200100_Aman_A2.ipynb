{
  "nbformat": 4,
  "nbformat_minor": 0,
  "metadata": {
    "colab": {
      "name": "200100_Aman_A2.ipynb",
      "provenance": [],
      "collapsed_sections": [],
      "include_colab_link": true
    },
    "kernelspec": {
      "name": "python3",
      "display_name": "Python 3"
    },
    "language_info": {
      "name": "python"
    }
  },
  "cells": [
    {
      "cell_type": "markdown",
      "metadata": {
        "id": "view-in-github",
        "colab_type": "text"
      },
      "source": [
        "<a href=\"https://colab.research.google.com/github/amanks-20/computer-vision-applications-in-transportation-engineering/blob/main/200100_Aman_A2.ipynb\" target=\"_parent\"><img src=\"https://colab.research.google.com/assets/colab-badge.svg\" alt=\"Open In Colab\"/></a>"
      ]
    },
    {
      "cell_type": "code",
      "execution_count": null,
      "metadata": {
        "id": "hN1fUox8CsWo"
      },
      "outputs": [],
      "source": [
        "import numpy as np \n",
        "import pandas as pd \n",
        "import matplotlib.pyplot as plt \n",
        "import cv2 \n",
        "import tensorflow as tf \n",
        "from PIL import Image \n",
        "from sklearn.model_selection import train_test_split\n",
        "from tensorflow.keras.utils import to_categorical\n",
        "from tensorflow.keras.models import Sequential, load_model\n",
        "from tensorflow.keras.layers import Conv2D, MaxPool2D, Dense, Flatten, Dropout\n",
        "import os "
      ]
    },
    {
      "cell_type": "code",
      "source": [
        "from google.colab import drive\n",
        "drive.mount('/content/drive')\n",
        "os.chdir('/content/drive/MyDrive/Traffic_Data')"
      ],
      "metadata": {
        "id": "uVNsRvnHfkDu",
        "colab": {
          "base_uri": "https://localhost:8080/"
        },
        "outputId": "56f7bf7a-99cb-422c-8fe2-1523122e5094"
      },
      "execution_count": null,
      "outputs": [
        {
          "output_type": "stream",
          "name": "stdout",
          "text": [
            "Mounted at /content/drive\n"
          ]
        }
      ]
    },
    {
      "cell_type": "markdown",
      "source": [
        "**Data photos and their labels are added to an empty list.**"
      ],
      "metadata": {
        "id": "Fv1dbuuMd_Yc"
      }
    },
    {
      "cell_type": "code",
      "source": [
        "data = []   # This will store the numpy arrays of the image\n",
        "labels = [] # This is where all of images' labels are kept\n",
        "classes = 58\n",
        "cur_path = os.getcwd()\n",
        "for i in range(classes):     \n",
        "    path = os.path.join(cur_path,'DATA',str(i))     \n",
        "    images = os.listdir(path)\n",
        "    for a in images:\n",
        "      try:\n",
        "        image = Image.open(path +'//'+ a)             \n",
        "        image = image.resize((30,30))                                                  \n",
        "        image = np.array(image)  # convert images into numpy array           \n",
        "        data.append(image)  \n",
        "        labels.append(i)\n",
        "      except Exception as e:\n",
        "        print(e)\n",
        "        \n",
        "\n",
        "data = np.array(data) # convert this list into a numpy array as our ANN will take numpy array as an input\n",
        "labels = np.array(labels) # convert this list into a numpy array as our ANN will take numpy array as an input\n",
        "  "
      ],
      "metadata": {
        "id": "07_fiiQhCyYS"
      },
      "execution_count": 18,
      "outputs": []
    },
    {
      "cell_type": "code",
      "source": [
        "data.shape "
      ],
      "metadata": {
        "colab": {
          "base_uri": "https://localhost:8080/"
        },
        "id": "Z9AqjAatCyjm",
        "outputId": "8161c7f9-4020-4705-c1f9-5fc258d1272d"
      },
      "execution_count": null,
      "outputs": [
        {
          "output_type": "execute_result",
          "data": {
            "text/plain": [
              "(4240, 30, 30, 3)"
            ]
          },
          "metadata": {},
          "execution_count": 5
        }
      ]
    },
    {
      "cell_type": "code",
      "source": [
        "labels.shape"
      ],
      "metadata": {
        "colab": {
          "base_uri": "https://localhost:8080/"
        },
        "id": "R_N28BFSrkza",
        "outputId": "1582d7dd-c272-41ed-aa64-773652fa35af"
      },
      "execution_count": null,
      "outputs": [
        {
          "output_type": "execute_result",
          "data": {
            "text/plain": [
              "(4240,)"
            ]
          },
          "metadata": {},
          "execution_count": 9
        }
      ]
    },
    {
      "cell_type": "markdown",
      "source": [
        "Splitting into 80% Training set and 20% test"
      ],
      "metadata": {
        "id": "nR2tsCmCdOnL"
      }
    },
    {
      "cell_type": "code",
      "source": [
        "X_train, X_test, y_train, y_test =train_test_split(data, labels, test_size=0.2, random_state=0)\n",
        "print(X_train.shape, X_test.shape, y_train.shape, y_test.shape)"
      ],
      "metadata": {
        "colab": {
          "base_uri": "https://localhost:8080/"
        },
        "id": "hOpIoa-zty39",
        "outputId": "63b670d7-fc2b-4089-fa6f-e45e544a6a49"
      },
      "execution_count": null,
      "outputs": [
        {
          "output_type": "stream",
          "name": "stdout",
          "text": [
            "(3392, 30, 30, 3) (848, 30, 30, 3) (3392,) (848,)\n"
          ]
        }
      ]
    },
    {
      "cell_type": "markdown",
      "source": [
        "Now splitting test set into further 50% test set and 50% validation set. Therefore we get 80-10-10 split"
      ],
      "metadata": {
        "id": "qXraI9XadaeC"
      }
    },
    {
      "cell_type": "code",
      "source": [
        "X_test, X_val, y_test, y_val =train_test_split(X_test, y_test, test_size=0.5, random_state=0)\n",
        "print(X_test.shape, X_val.shape, y_test.shape, y_val.shape)"
      ],
      "metadata": {
        "colab": {
          "base_uri": "https://localhost:8080/"
        },
        "id": "fjqHYF5C9q4a",
        "outputId": "a2a2e857-78f1-4ff0-9839-a84c7bba862e"
      },
      "execution_count": null,
      "outputs": [
        {
          "output_type": "stream",
          "name": "stdout",
          "text": [
            "(424, 30, 30, 3) (424, 30, 30, 3) (424,) (424,)\n"
          ]
        }
      ]
    },
    {
      "cell_type": "code",
      "source": [
        "y_test.shape"
      ],
      "metadata": {
        "colab": {
          "base_uri": "https://localhost:8080/"
        },
        "id": "uPlB6RTX-vER",
        "outputId": "ffa48fdb-d67a-4095-96ae-f7e91ff0abb1"
      },
      "execution_count": null,
      "outputs": [
        {
          "output_type": "execute_result",
          "data": {
            "text/plain": [
              "(424,)"
            ]
          },
          "metadata": {},
          "execution_count": 12
        }
      ]
    },
    {
      "cell_type": "markdown",
      "source": [
        "Converting all y values into one hot encoded vectors"
      ],
      "metadata": {
        "id": "fGldj0VLf3wQ"
      }
    },
    {
      "cell_type": "code",
      "source": [
        "y_train = to_categorical(y_train,58) \n",
        "y_test = to_categorical(y_test,58)\n",
        "y_val = to_categorical(y_val,58)"
      ],
      "metadata": {
        "id": "HEkGFwomuAwp"
      },
      "execution_count": null,
      "outputs": []
    },
    {
      "cell_type": "code",
      "source": [
        ""
      ],
      "metadata": {
        "id": "mjTdwOxOfvO_"
      },
      "execution_count": null,
      "outputs": []
    },
    {
      "cell_type": "code",
      "source": [
        "model =Sequential() \n",
        "\n",
        "model.add(Conv2D(filters=32, kernel_size=(5,5), activation='relu', input_shape=X_train.shape[1:])) \n",
        "\n",
        "model.add(Conv2D(filters=32, kernel_size=(5,5), activation='relu')) \n",
        "\n",
        "model.add(MaxPool2D(pool_size=(2,2)))\n",
        "\n",
        "model.add(Dropout(rate=0.25)) \n",
        "\n",
        "model.add(Conv2D(filters=64, kernel_size=(3,3), activation='relu')) \n",
        "\n",
        "model.add(Conv2D(filters=64, kernel_size=(3,3), activation='relu')) \n",
        "\n",
        "model.add(MaxPool2D(pool_size=(2,2))) \n",
        "\n",
        "model.add(Dropout(rate=0.25)) \n",
        "\n",
        "model.add(Flatten()) \n",
        "\n",
        "model.add(Dense(256, activation='relu')) \n",
        "\n",
        "model.add(Dropout(rate=0.5))\n",
        "\n",
        "model.add(Dense(58, activation='softmax'))"
      ],
      "metadata": {
        "id": "lk3-6Bh1uBdF"
      },
      "execution_count": null,
      "outputs": []
    },
    {
      "cell_type": "code",
      "source": [
        "model.compile(loss='categorical_crossentropy', optimizer='adam', metrics=['accuracy']) \n",
        "epochs = 15\n",
        "val_history = model.fit(X_train, y_train, batch_size=32, epochs=epochs, validation_data=(X_val, y_val))"
      ],
      "metadata": {
        "colab": {
          "base_uri": "https://localhost:8080/"
        },
        "id": "XPz-aRKL_KKQ",
        "outputId": "164fbb75-7dbb-4e79-c5ce-23f0330e3f50"
      },
      "execution_count": null,
      "outputs": [
        {
          "output_type": "stream",
          "name": "stdout",
          "text": [
            "Epoch 1/15\n",
            "106/106 [==============================] - 16s 142ms/step - loss: 4.7386 - accuracy: 0.1445 - val_loss: 2.7202 - val_accuracy: 0.2854\n",
            "Epoch 2/15\n",
            "106/106 [==============================] - 18s 173ms/step - loss: 2.4784 - accuracy: 0.3841 - val_loss: 1.6706 - val_accuracy: 0.6604\n",
            "Epoch 3/15\n",
            "106/106 [==============================] - 17s 160ms/step - loss: 1.7631 - accuracy: 0.5575 - val_loss: 1.1719 - val_accuracy: 0.7618\n",
            "Epoch 4/15\n",
            "106/106 [==============================] - 15s 141ms/step - loss: 1.4058 - accuracy: 0.6203 - val_loss: 0.8801 - val_accuracy: 0.7877\n",
            "Epoch 5/15\n",
            "106/106 [==============================] - 15s 141ms/step - loss: 1.2689 - accuracy: 0.6453 - val_loss: 0.7544 - val_accuracy: 0.8561\n",
            "Epoch 6/15\n",
            "106/106 [==============================] - 15s 144ms/step - loss: 1.0240 - accuracy: 0.7096 - val_loss: 0.6052 - val_accuracy: 0.8514\n",
            "Epoch 7/15\n",
            "106/106 [==============================] - 15s 146ms/step - loss: 0.9671 - accuracy: 0.7373 - val_loss: 0.5344 - val_accuracy: 0.8703\n",
            "Epoch 8/15\n",
            "106/106 [==============================] - 15s 145ms/step - loss: 0.8306 - accuracy: 0.7603 - val_loss: 0.4629 - val_accuracy: 0.8703\n",
            "Epoch 9/15\n",
            "106/106 [==============================] - 15s 142ms/step - loss: 0.8287 - accuracy: 0.7639 - val_loss: 0.4532 - val_accuracy: 0.8939\n",
            "Epoch 10/15\n",
            "106/106 [==============================] - 16s 153ms/step - loss: 0.7315 - accuracy: 0.7927 - val_loss: 0.4387 - val_accuracy: 0.8868\n",
            "Epoch 11/15\n",
            "106/106 [==============================] - 16s 151ms/step - loss: 0.6792 - accuracy: 0.8037 - val_loss: 0.3158 - val_accuracy: 0.9127\n",
            "Epoch 12/15\n",
            "106/106 [==============================] - 15s 143ms/step - loss: 0.6205 - accuracy: 0.8172 - val_loss: 0.3290 - val_accuracy: 0.9127\n",
            "Epoch 13/15\n",
            "106/106 [==============================] - 15s 141ms/step - loss: 0.6024 - accuracy: 0.8228 - val_loss: 0.2823 - val_accuracy: 0.9222\n",
            "Epoch 14/15\n",
            "106/106 [==============================] - 15s 138ms/step - loss: 0.5406 - accuracy: 0.8396 - val_loss: 0.3172 - val_accuracy: 0.9080\n",
            "Epoch 15/15\n",
            "106/106 [==============================] - 15s 140ms/step - loss: 0.4922 - accuracy: 0.8608 - val_loss: 0.2491 - val_accuracy: 0.9245\n"
          ]
        }
      ]
    },
    {
      "cell_type": "code",
      "source": [
        "model.compile(loss='categorical_crossentropy', optimizer='adam', metrics=['accuracy']) \n",
        "epochs = 15\n",
        "test_history = model.fit(X_train, y_train, batch_size=32, epochs=epochs, validation_data=(X_test, y_test))"
      ],
      "metadata": {
        "colab": {
          "base_uri": "https://localhost:8080/"
        },
        "id": "mXYB2L9UuBiZ",
        "outputId": "fded3549-d446-402b-dddd-08731c32d0f1"
      },
      "execution_count": 17,
      "outputs": [
        {
          "output_type": "stream",
          "name": "stdout",
          "text": [
            "Epoch 1/15\n",
            "106/106 [==============================] - 16s 144ms/step - loss: 0.5360 - accuracy: 0.8464 - val_loss: 0.2491 - val_accuracy: 0.9316\n",
            "Epoch 2/15\n",
            "106/106 [==============================] - 15s 144ms/step - loss: 0.4778 - accuracy: 0.8617 - val_loss: 0.2469 - val_accuracy: 0.9222\n",
            "Epoch 3/15\n",
            "106/106 [==============================] - 16s 152ms/step - loss: 0.4430 - accuracy: 0.8703 - val_loss: 0.2387 - val_accuracy: 0.9363\n",
            "Epoch 4/15\n",
            "106/106 [==============================] - 15s 141ms/step - loss: 0.4114 - accuracy: 0.8732 - val_loss: 0.2801 - val_accuracy: 0.9033\n",
            "Epoch 5/15\n",
            "106/106 [==============================] - 15s 141ms/step - loss: 0.4267 - accuracy: 0.8732 - val_loss: 0.1932 - val_accuracy: 0.9410\n",
            "Epoch 6/15\n",
            "106/106 [==============================] - 19s 179ms/step - loss: 0.4232 - accuracy: 0.8768 - val_loss: 0.2043 - val_accuracy: 0.9387\n",
            "Epoch 7/15\n",
            "106/106 [==============================] - 17s 164ms/step - loss: 0.3904 - accuracy: 0.8838 - val_loss: 0.2258 - val_accuracy: 0.9340\n",
            "Epoch 8/15\n",
            "106/106 [==============================] - 20s 192ms/step - loss: 0.3723 - accuracy: 0.8912 - val_loss: 0.1622 - val_accuracy: 0.9528\n",
            "Epoch 9/15\n",
            "106/106 [==============================] - 19s 182ms/step - loss: 0.3351 - accuracy: 0.8992 - val_loss: 0.1635 - val_accuracy: 0.9505\n",
            "Epoch 10/15\n",
            "106/106 [==============================] - 16s 147ms/step - loss: 0.3093 - accuracy: 0.9042 - val_loss: 0.1485 - val_accuracy: 0.9528\n",
            "Epoch 11/15\n",
            "106/106 [==============================] - 15s 144ms/step - loss: 0.3473 - accuracy: 0.8953 - val_loss: 0.1918 - val_accuracy: 0.9528\n",
            "Epoch 12/15\n",
            "106/106 [==============================] - 16s 147ms/step - loss: 0.3556 - accuracy: 0.8971 - val_loss: 0.1692 - val_accuracy: 0.9481\n",
            "Epoch 13/15\n",
            "106/106 [==============================] - 16s 147ms/step - loss: 0.3062 - accuracy: 0.9092 - val_loss: 0.1557 - val_accuracy: 0.9505\n",
            "Epoch 14/15\n",
            "106/106 [==============================] - 16s 147ms/step - loss: 0.2397 - accuracy: 0.9248 - val_loss: 0.1242 - val_accuracy: 0.9599\n",
            "Epoch 15/15\n",
            "106/106 [==============================] - 21s 200ms/step - loss: 0.2877 - accuracy: 0.9124 - val_loss: 0.1174 - val_accuracy: 0.9646\n"
          ]
        }
      ]
    },
    {
      "cell_type": "code",
      "source": [
        "#val accuracy \n",
        "plt.figure(0)\n",
        "plt.plot(val_history.history['accuracy'], label='training accuracy')\n",
        "plt.plot(val_history.history['val_accuracy'], label=' accuracy')\n",
        "plt.title('Accuracy')\n",
        "plt.xlabel('epochs')\n",
        "plt.ylabel('accuracy')\n",
        "plt.legend()\n",
        "plt.show()"
      ],
      "metadata": {
        "colab": {
          "base_uri": "https://localhost:8080/",
          "height": 295
        },
        "id": "ohGt1OWauBwt",
        "outputId": "9a16aadd-6bc2-41ad-efa5-78ff943a47d0"
      },
      "execution_count": null,
      "outputs": [
        {
          "output_type": "display_data",
          "data": {
            "text/plain": [
              "<Figure size 432x288 with 1 Axes>"
            ],
            "image/png": "[encoded data removed]"
          },
          "metadata": {
            "needs_background": "light"
          }
        }
      ]
    },
    {
      "cell_type": "code",
      "source": [
        "#val Loss\n",
        "\n",
        "plt.plot(val_history.history['loss'], label='training loss')\n",
        "plt.plot(val_history.history['val_loss'], label='validation loss')\n",
        "plt.title('Loss')\n",
        "plt.xlabel('epochs')\n",
        "plt.ylabel('loss')\n",
        "plt.legend()\n",
        "plt.show()"
      ],
      "metadata": {
        "colab": {
          "base_uri": "https://localhost:8080/",
          "height": 295
        },
        "id": "V-i6OuScuB1s",
        "outputId": "fff5321c-4001-422e-9cde-8bbbcad8a3e1"
      },
      "execution_count": null,
      "outputs": [
        {
          "output_type": "display_data",
          "data": {
            "text/plain": [
              "<Figure size 432x288 with 1 Axes>"
            ],
            "image/png": "[encoded data removed]"
          },
          "metadata": {
            "needs_background": "light"
          }
        }
      ]
    },
    {
      "cell_type": "code",
      "source": [
        "#test accuracy \n",
        "plt.figure(0)\n",
        "plt.plot(test_history.history['accuracy'], label='training accuracy')\n",
        "plt.plot(test_history.history['val_accuracy'], label='test accuracy')\n",
        "plt.title('Accuracy')\n",
        "plt.xlabel('epochs')\n",
        "plt.ylabel('accuracy')\n",
        "plt.legend()\n",
        "plt.show()"
      ],
      "metadata": {
        "colab": {
          "base_uri": "https://localhost:8080/",
          "height": 295
        },
        "id": "mK5zX39_DtzG",
        "outputId": "3fae8e29-e030-4b14-eae4-6901e90a9ee9"
      },
      "execution_count": null,
      "outputs": [
        {
          "output_type": "display_data",
          "data": {
            "text/plain": [
              "<Figure size 432x288 with 1 Axes>"
            ],
            "image/png": "[encoded data removed]"
          },
          "metadata": {
            "needs_background": "light"
          }
        }
      ]
    },
    {
      "cell_type": "code",
      "source": [
        "#test Loss\n",
        "\n",
        "plt.plot(test_history.history['loss'], label='training loss')\n",
        "plt.plot(test_history.history['val_loss'], label='test loss')\n",
        "plt.title('Loss')\n",
        "plt.xlabel('epochs')\n",
        "plt.ylabel('loss')\n",
        "plt.legend()\n",
        "plt.show()"
      ],
      "metadata": {
        "colab": {
          "base_uri": "https://localhost:8080/",
          "height": 295
        },
        "id": "f9hJ4nsCD4ID",
        "outputId": "0d0005fc-df9c-493f-adab-46e226797981"
      },
      "execution_count": null,
      "outputs": [
        {
          "output_type": "display_data",
          "data": {
            "text/plain": [
              "<Figure size 432x288 with 1 Axes>"
            ],
            "image/png": "[encoded data removed]"
          },
          "metadata": {
            "needs_background": "light"
          }
        }
      ]
    },
    {
      "cell_type": "markdown",
      "source": [
        "Lets predict our test set results"
      ],
      "metadata": {
        "id": "7bfprlAljnGT"
      }
    },
    {
      "cell_type": "code",
      "source": [
        "test_set_Predictions = []\n",
        "for i in model.predict(X_test):\n",
        "  test_set_Predictions.append(np.argmax(i))\n",
        "\n",
        "test_set_Predictions = np.array(test_set_Predictions)\n"
      ],
      "metadata": {
        "id": "Zx06dsfBgjOW"
      },
      "execution_count": null,
      "outputs": []
    },
    {
      "cell_type": "code",
      "source": [
        "test_set_Predictions"
      ],
      "metadata": {
        "id": "RFX8BBR8itfs",
        "colab": {
          "base_uri": "https://localhost:8080/"
        },
        "outputId": "5516b1ec-d1e0-4a84-a37a-51f5343d2a5a"
      },
      "execution_count": null,
      "outputs": [
        {
          "output_type": "execute_result",
          "data": {
            "text/plain": [
              "array([ 5, 26, 15, 54,  3, 49, 17, 14,  3, 54, 56, 54, 12, 28, 56,  6, 28,\n",
              "        5,  0, 26, 30, 55, 52,  2, 49,  3,  1, 11, 16,  5, 38, 44, 14, 11,\n",
              "       12, 16,  5, 54, 49,  3, 28, 14, 28, 24, 54, 23, 16,  5, 24, 38,  2,\n",
              "       54, 54,  0, 35,  3,  2, 54, 11, 20,  7, 27, 28, 38, 19,  4,  1, 54,\n",
              "        5,  6, 35, 54, 30,  3, 26, 28,  2,  0,  3, 28,  5,  7, 15,  0, 54,\n",
              "       11,  7,  0,  3, 35,  6, 54,  5,  3,  5,  1,  4, 28, 24, 12, 28,  3,\n",
              "       10, 14,  7, 50, 11,  7, 44, 14,  3,  7, 36,  7, 55, 35,  2,  6, 11,\n",
              "       56,  7,  7, 30, 46, 49, 35, 17, 34, 54, 28, 28, 28,  5, 26,  5, 54,\n",
              "       14, 40, 28, 30, 41,  5, 26, 13, 30, 54,  4,  3, 10, 38,  3, 35, 16,\n",
              "       35,  3, 23, 35,  6, 34, 54, 10, 54, 11, 43, 31,  0, 43, 17, 14, 29,\n",
              "       28, 55,  1, 52, 50, 11,  0, 24, 35,  5,  4, 55,  5, 30, 39, 17, 52,\n",
              "        1, 11, 30,  2, 54, 17, 54,  3,  5, 40, 35, 30, 17, 57, 17, 28, 55,\n",
              "       28, 24,  6,  0, 35,  3,  1, 43, 24, 30, 28,  4, 11, 54, 38, 54,  3,\n",
              "       28, 26,  1, 28, 24, 29, 43, 14,  7, 21,  4, 28, 28, 57, 15, 47,  6,\n",
              "        2, 27, 27,  5, 28, 10, 11, 28,  2, 54,  7,  4, 52, 48, 28, 35, 26,\n",
              "       54,  3,  3, 39, 17, 26, 10, 30,  3, 54, 14, 24,  3, 22, 11, 41,  5,\n",
              "       28, 34, 17,  0, 43, 43, 53, 14, 54, 11, 16,  2,  0,  0,  5, 29, 35,\n",
              "        2, 14, 54,  3,  1, 39, 35, 28, 37, 11, 28,  3, 24,  8, 28, 44, 11,\n",
              "       27, 55, 28, 30,  4, 30, 15, 40, 14, 44, 11, 10,  0, 14,  7, 30, 28,\n",
              "       11, 31, 54, 55, 16, 28, 28, 28, 43, 28, 35, 43, 37, 26,  1, 28, 26,\n",
              "       16, 55, 56, 30, 12, 50,  3, 48, 14,  6, 43, 24,  3, 30, 39, 54, 28,\n",
              "       56, 56, 17, 55, 54,  5, 10, 28, 14,  3, 16, 26, 54,  4, 24,  3, 16,\n",
              "       54, 28,  1, 46, 54,  3, 10, 56, 56, 35, 37,  3,  3, 13, 29, 28, 35,\n",
              "       54, 56, 20,  7, 35, 12, 11, 24, 31,  4, 35, 24, 43, 28, 56, 54, 44,\n",
              "       28, 28, 10, 35, 39, 56,  7,  3, 30, 28, 14, 28, 30, 35, 54, 16])"
            ]
          },
          "metadata": {},
          "execution_count": 32
        }
      ]
    },
    {
      "cell_type": "markdown",
      "source": [
        "**y_test is in one hot encoded form and hence to check the accuracy score between y_test and test_set_Predictions, we have to one hot encode test_set_Predictions too**"
      ],
      "metadata": {
        "id": "wdjAJYd7jFof"
      }
    },
    {
      "cell_type": "code",
      "source": [
        "test_set_Predictions = to_categorical(test_set_Predictions,58) "
      ],
      "metadata": {
        "colab": {
          "base_uri": "https://localhost:8080/",
          "height": 169
        },
        "id": "bsQ_R7IqWXA_",
        "outputId": "d63fe1a8-7890-4265-cc08-56491212a04e"
      },
      "execution_count": 16,
      "outputs": [
        {
          "output_type": "error",
          "ename": "NameError",
          "evalue": "ignored",
          "traceback": [
            "\u001b[0;31m---------------------------------------------------------------------------\u001b[0m",
            "\u001b[0;31mNameError\u001b[0m                                 Traceback (most recent call last)",
            "\u001b[0;32m<ipython-input-16-bce568655e8f>\u001b[0m in \u001b[0;36m<module>\u001b[0;34m()\u001b[0m\n\u001b[0;32m----> 1\u001b[0;31m \u001b[0mtest_set_Predictions\u001b[0m \u001b[0;34m=\u001b[0m \u001b[0mto_categorical\u001b[0m\u001b[0;34m(\u001b[0m\u001b[0mtest_set_Predictions\u001b[0m\u001b[0;34m,\u001b[0m\u001b[0;36m58\u001b[0m\u001b[0;34m)\u001b[0m\u001b[0;34m\u001b[0m\u001b[0;34m\u001b[0m\u001b[0m\n\u001b[0m",
            "\u001b[0;31mNameError\u001b[0m: name 'test_set_Predictions' is not defined"
          ]
        }
      ]
    },
    {
      "cell_type": "code",
      "source": [
        "from sklearn.metrics import accuracy_score"
      ],
      "metadata": {
        "id": "hKgGL9LWilQE"
      },
      "execution_count": null,
      "outputs": []
    },
    {
      "cell_type": "markdown",
      "source": [
        "The final accuracy score comparing the predictions made for the test set to the actual results of the test set"
      ],
      "metadata": {
        "id": "FhnQ7TFNi1PS"
      }
    },
    {
      "cell_type": "code",
      "source": [
        "accuracy_score(y_test, test_set_Predictions)"
      ],
      "metadata": {
        "colab": {
          "base_uri": "https://localhost:8080/"
        },
        "id": "mkzrm5RgiU-L",
        "outputId": "a91d9b7b-9895-46db-e486-0c49417f835c"
      },
      "execution_count": null,
      "outputs": [
        {
          "output_type": "execute_result",
          "data": {
            "text/plain": [
              "1.0"
            ]
          },
          "metadata": {},
          "execution_count": 35
        }
      ]
    }
  ]
}