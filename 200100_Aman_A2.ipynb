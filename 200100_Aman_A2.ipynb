{
  "nbformat": 4,
  "nbformat_minor": 0,
  "metadata": {
    "colab": {
      "name": "200100_Aman_A2.ipynb",
      "provenance": [],
      "collapsed_sections": [],
      "include_colab_link": true
    },
    "kernelspec": {
      "name": "python3",
      "display_name": "Python 3"
    },
    "language_info": {
      "name": "python"
    }
  },
  "cells": [
    {
      "cell_type": "markdown",
      "metadata": {
        "id": "view-in-github",
        "colab_type": "text"
      },
      "source": [
        "<a href=\"https://colab.research.google.com/github/amanks-20/computer-vision-applications-in-transportation-engineering/blob/main/200100_Aman_A2.ipynb\" target=\"_parent\"><img src=\"https://colab.research.google.com/assets/colab-badge.svg\" alt=\"Open In Colab\"/></a>"
      ]
    },
    {
      "cell_type": "code",
      "execution_count": null,
      "metadata": {
        "id": "hN1fUox8CsWo"
      },
      "outputs": [],
      "source": [
        "import numpy as np \n",
        "import pandas as pd \n",
        "import matplotlib.pyplot as plt \n",
        "import cv2 \n",
        "import tensorflow as tf \n",
        "from PIL import Image \n",
        "from sklearn.model_selection import train_test_split\n",
        "from tensorflow.keras.utils import to_categorical\n",
        "from tensorflow.keras.models import Sequential, load_model\n",
        "from tensorflow.keras.layers import Conv2D, MaxPool2D, Dense, Flatten, Dropout\n",
        "import os "
      ]
    },
    {
      "cell_type": "code",
      "source": [
        "from google.colab import drive\n",
        "drive.mount('/content/drive')\n",
        "os.chdir('/content/drive/MyDrive/Traffic_Data')"
      ],
      "metadata": {
        "id": "uVNsRvnHfkDu",
        "colab": {
          "base_uri": "https://localhost:8080/"
        },
        "outputId": "56f7bf7a-99cb-422c-8fe2-1523122e5094"
      },
      "execution_count": null,
      "outputs": [
        {
          "output_type": "stream",
          "name": "stdout",
          "text": [
            "Mounted at /content/drive\n"
          ]
        }
      ]
    },
    {
      "cell_type": "markdown",
      "source": [
        "**Data photos and their labels are added to an empty list.**"
      ],
      "metadata": {
        "id": "Fv1dbuuMd_Yc"
      }
    },
    {
      "cell_type": "code",
      "source": [
        "data = []   # This will store the numpy arrays of the image\n",
        "labels = [] # This is where all of images' labels are kept\n",
        "classes = 58\n",
        "cur_path = os.getcwd()\n",
        "for i in range(classes):     \n",
        "    path = os.path.join(cur_path,'DATA',str(i))     \n",
        "    images = os.listdir(path)\n",
        "    for a in images:\n",
        "      try:\n",
        "        image = Image.open(path +'//'+ a)             \n",
        "        image = image.resize((30,30))                                                  \n",
        "        image = np.array(image)  # convert images into numpy array           \n",
        "        data.append(image)  \n",
        "        labels.append(i)\n",
        "      except Exception as e:\n",
        "        print(e)\n",
        "        \n",
        "\n",
        "data = np.array(data) # convert this list into a numpy array as our ANN will take numpy array as an input\n",
        "labels = np.array(labels) # convert this list into a numpy array as our ANN will take numpy array as an input\n",
        "  "
      ],
      "metadata": {
        "id": "07_fiiQhCyYS"
      },
      "execution_count": 18,
      "outputs": []
    },
    {
      "cell_type": "code",
      "source": [
        "data.shape "
      ],
      "metadata": {
        "colab": {
          "base_uri": "https://localhost:8080/"
        },
        "id": "Z9AqjAatCyjm",
        "outputId": "4b0bd875-28b1-43e8-c13c-7c891b6cbb5e"
      },
      "execution_count": 19,
      "outputs": [
        {
          "output_type": "execute_result",
          "data": {
            "text/plain": [
              "(4240, 30, 30, 3)"
            ]
          },
          "metadata": {},
          "execution_count": 19
        }
      ]
    },
    {
      "cell_type": "code",
      "source": [
        "labels.shape"
      ],
      "metadata": {
        "colab": {
          "base_uri": "https://localhost:8080/"
        },
        "id": "R_N28BFSrkza",
        "outputId": "1582d7dd-c272-41ed-aa64-773652fa35af"
      },
      "execution_count": null,
      "outputs": [
        {
          "output_type": "execute_result",
          "data": {
            "text/plain": [
              "(4240,)"
            ]
          },
          "metadata": {},
          "execution_count": 9
        }
      ]
    },
    {
      "cell_type": "markdown",
      "source": [
        "Splitting into 80% Training set and 20% test"
      ],
      "metadata": {
        "id": "nR2tsCmCdOnL"
      }
    },
    {
      "cell_type": "code",
      "source": [
        "X_train, X_test, y_train, y_test =train_test_split(data, labels, test_size=0.2, random_state=0)\n",
        "print(X_train.shape, X_test.shape, y_train.shape, y_test.shape)"
      ],
      "metadata": {
        "colab": {
          "base_uri": "https://localhost:8080/"
        },
        "id": "hOpIoa-zty39",
        "outputId": "63b670d7-fc2b-4089-fa6f-e45e544a6a49"
      },
      "execution_count": null,
      "outputs": [
        {
          "output_type": "stream",
          "name": "stdout",
          "text": [
            "(3392, 30, 30, 3) (848, 30, 30, 3) (3392,) (848,)\n"
          ]
        }
      ]
    },
    {
      "cell_type": "markdown",
      "source": [
        "Now splitting test set into further 50% test set and 50% validation set. Therefore we get 80-10-10 split"
      ],
      "metadata": {
        "id": "qXraI9XadaeC"
      }
    },
    {
      "cell_type": "code",
      "source": [
        "X_test, X_val, y_test, y_val =train_test_split(X_test, y_test, test_size=0.5, random_state=0)\n",
        "print(X_test.shape, X_val.shape, y_test.shape, y_val.shape)"
      ],
      "metadata": {
        "colab": {
          "base_uri": "https://localhost:8080/"
        },
        "id": "fjqHYF5C9q4a",
        "outputId": "a2a2e857-78f1-4ff0-9839-a84c7bba862e"
      },
      "execution_count": null,
      "outputs": [
        {
          "output_type": "stream",
          "name": "stdout",
          "text": [
            "(424, 30, 30, 3) (424, 30, 30, 3) (424,) (424,)\n"
          ]
        }
      ]
    },
    {
      "cell_type": "code",
      "source": [
        "y_test.shape"
      ],
      "metadata": {
        "colab": {
          "base_uri": "https://localhost:8080/"
        },
        "id": "uPlB6RTX-vER",
        "outputId": "ffa48fdb-d67a-4095-96ae-f7e91ff0abb1"
      },
      "execution_count": null,
      "outputs": [
        {
          "output_type": "execute_result",
          "data": {
            "text/plain": [
              "(424,)"
            ]
          },
          "metadata": {},
          "execution_count": 12
        }
      ]
    },
    {
      "cell_type": "markdown",
      "source": [
        "Converting all y values into one hot encoded vectors"
      ],
      "metadata": {
        "id": "fGldj0VLf3wQ"
      }
    },
    {
      "cell_type": "code",
      "source": [
        "y_train = to_categorical(y_train,58) \n",
        "y_test = to_categorical(y_test,58)\n",
        "y_val = to_categorical(y_val,58)"
      ],
      "metadata": {
        "id": "HEkGFwomuAwp"
      },
      "execution_count": null,
      "outputs": []
    },
    {
      "cell_type": "code",
      "source": [
        ""
      ],
      "metadata": {
        "id": "mjTdwOxOfvO_"
      },
      "execution_count": null,
      "outputs": []
    },
    {
      "cell_type": "code",
      "source": [
        "model =Sequential() \n",
        "\n",
        "model.add(Conv2D(filters=32, kernel_size=(5,5), activation='relu', input_shape=X_train.shape[1:])) \n",
        "\n",
        "model.add(Conv2D(filters=32, kernel_size=(5,5), activation='relu')) \n",
        "\n",
        "model.add(MaxPool2D(pool_size=(2,2)))\n",
        "\n",
        "model.add(Dropout(rate=0.25)) \n",
        "\n",
        "model.add(Conv2D(filters=64, kernel_size=(3,3), activation='relu')) \n",
        "\n",
        "model.add(Conv2D(filters=64, kernel_size=(3,3), activation='relu')) \n",
        "\n",
        "model.add(MaxPool2D(pool_size=(2,2))) \n",
        "\n",
        "model.add(Dropout(rate=0.25)) \n",
        "\n",
        "model.add(Flatten()) \n",
        "\n",
        "model.add(Dense(256, activation='relu')) \n",
        "\n",
        "model.add(Dropout(rate=0.5))\n",
        "\n",
        "model.add(Dense(58, activation='softmax'))"
      ],
      "metadata": {
        "id": "lk3-6Bh1uBdF"
      },
      "execution_count": 20,
      "outputs": []
    },
    {
      "cell_type": "code",
      "source": [
        "model.compile(loss='categorical_crossentropy', optimizer='adam', metrics=['accuracy']) \n",
        "epochs = 15\n",
        "val_history = model.fit(X_train, y_train, batch_size=32, epochs=epochs, validation_data=(X_val, y_val))"
      ],
      "metadata": {
        "colab": {
          "base_uri": "https://localhost:8080/"
        },
        "id": "XPz-aRKL_KKQ",
        "outputId": "164fbb75-7dbb-4e79-c5ce-23f0330e3f50"
      },
      "execution_count": null,
      "outputs": [
        {
          "output_type": "stream",
          "name": "stdout",
          "text": [
            "Epoch 1/15\n",
            "106/106 [==============================] - 16s 142ms/step - loss: 4.7386 - accuracy: 0.1445 - val_loss: 2.7202 - val_accuracy: 0.2854\n",
            "Epoch 2/15\n",
            "106/106 [==============================] - 18s 173ms/step - loss: 2.4784 - accuracy: 0.3841 - val_loss: 1.6706 - val_accuracy: 0.6604\n",
            "Epoch 3/15\n",
            "106/106 [==============================] - 17s 160ms/step - loss: 1.7631 - accuracy: 0.5575 - val_loss: 1.1719 - val_accuracy: 0.7618\n",
            "Epoch 4/15\n",
            "106/106 [==============================] - 15s 141ms/step - loss: 1.4058 - accuracy: 0.6203 - val_loss: 0.8801 - val_accuracy: 0.7877\n",
            "Epoch 5/15\n",
            "106/106 [==============================] - 15s 141ms/step - loss: 1.2689 - accuracy: 0.6453 - val_loss: 0.7544 - val_accuracy: 0.8561\n",
            "Epoch 6/15\n",
            "106/106 [==============================] - 15s 144ms/step - loss: 1.0240 - accuracy: 0.7096 - val_loss: 0.6052 - val_accuracy: 0.8514\n",
            "Epoch 7/15\n",
            "106/106 [==============================] - 15s 146ms/step - loss: 0.9671 - accuracy: 0.7373 - val_loss: 0.5344 - val_accuracy: 0.8703\n",
            "Epoch 8/15\n",
            "106/106 [==============================] - 15s 145ms/step - loss: 0.8306 - accuracy: 0.7603 - val_loss: 0.4629 - val_accuracy: 0.8703\n",
            "Epoch 9/15\n",
            "106/106 [==============================] - 15s 142ms/step - loss: 0.8287 - accuracy: 0.7639 - val_loss: 0.4532 - val_accuracy: 0.8939\n",
            "Epoch 10/15\n",
            "106/106 [==============================] - 16s 153ms/step - loss: 0.7315 - accuracy: 0.7927 - val_loss: 0.4387 - val_accuracy: 0.8868\n",
            "Epoch 11/15\n",
            "106/106 [==============================] - 16s 151ms/step - loss: 0.6792 - accuracy: 0.8037 - val_loss: 0.3158 - val_accuracy: 0.9127\n",
            "Epoch 12/15\n",
            "106/106 [==============================] - 15s 143ms/step - loss: 0.6205 - accuracy: 0.8172 - val_loss: 0.3290 - val_accuracy: 0.9127\n",
            "Epoch 13/15\n",
            "106/106 [==============================] - 15s 141ms/step - loss: 0.6024 - accuracy: 0.8228 - val_loss: 0.2823 - val_accuracy: 0.9222\n",
            "Epoch 14/15\n",
            "106/106 [==============================] - 15s 138ms/step - loss: 0.5406 - accuracy: 0.8396 - val_loss: 0.3172 - val_accuracy: 0.9080\n",
            "Epoch 15/15\n",
            "106/106 [==============================] - 15s 140ms/step - loss: 0.4922 - accuracy: 0.8608 - val_loss: 0.2491 - val_accuracy: 0.9245\n"
          ]
        }
      ]
    },
    {
      "cell_type": "code",
      "source": [
        "model.compile(loss='categorical_crossentropy', optimizer='adam', metrics=['accuracy']) \n",
        "epochs = 15\n",
        "test_history = model.fit(X_train, y_train, batch_size=32, epochs=epochs, validation_data=(X_test, y_test))"
      ],
      "metadata": {
        "colab": {
          "base_uri": "https://localhost:8080/"
        },
        "id": "mXYB2L9UuBiZ",
        "outputId": "fded3549-d446-402b-dddd-08731c32d0f1"
      },
      "execution_count": 17,
      "outputs": [
        {
          "output_type": "stream",
          "name": "stdout",
          "text": [
            "Epoch 1/15\n",
            "106/106 [==============================] - 16s 144ms/step - loss: 0.5360 - accuracy: 0.8464 - val_loss: 0.2491 - val_accuracy: 0.9316\n",
            "Epoch 2/15\n",
            "106/106 [==============================] - 15s 144ms/step - loss: 0.4778 - accuracy: 0.8617 - val_loss: 0.2469 - val_accuracy: 0.9222\n",
            "Epoch 3/15\n",
            "106/106 [==============================] - 16s 152ms/step - loss: 0.4430 - accuracy: 0.8703 - val_loss: 0.2387 - val_accuracy: 0.9363\n",
            "Epoch 4/15\n",
            "106/106 [==============================] - 15s 141ms/step - loss: 0.4114 - accuracy: 0.8732 - val_loss: 0.2801 - val_accuracy: 0.9033\n",
            "Epoch 5/15\n",
            "106/106 [==============================] - 15s 141ms/step - loss: 0.4267 - accuracy: 0.8732 - val_loss: 0.1932 - val_accuracy: 0.9410\n",
            "Epoch 6/15\n",
            "106/106 [==============================] - 19s 179ms/step - loss: 0.4232 - accuracy: 0.8768 - val_loss: 0.2043 - val_accuracy: 0.9387\n",
            "Epoch 7/15\n",
            "106/106 [==============================] - 17s 164ms/step - loss: 0.3904 - accuracy: 0.8838 - val_loss: 0.2258 - val_accuracy: 0.9340\n",
            "Epoch 8/15\n",
            "106/106 [==============================] - 20s 192ms/step - loss: 0.3723 - accuracy: 0.8912 - val_loss: 0.1622 - val_accuracy: 0.9528\n",
            "Epoch 9/15\n",
            "106/106 [==============================] - 19s 182ms/step - loss: 0.3351 - accuracy: 0.8992 - val_loss: 0.1635 - val_accuracy: 0.9505\n",
            "Epoch 10/15\n",
            "106/106 [==============================] - 16s 147ms/step - loss: 0.3093 - accuracy: 0.9042 - val_loss: 0.1485 - val_accuracy: 0.9528\n",
            "Epoch 11/15\n",
            "106/106 [==============================] - 15s 144ms/step - loss: 0.3473 - accuracy: 0.8953 - val_loss: 0.1918 - val_accuracy: 0.9528\n",
            "Epoch 12/15\n",
            "106/106 [==============================] - 16s 147ms/step - loss: 0.3556 - accuracy: 0.8971 - val_loss: 0.1692 - val_accuracy: 0.9481\n",
            "Epoch 13/15\n",
            "106/106 [==============================] - 16s 147ms/step - loss: 0.3062 - accuracy: 0.9092 - val_loss: 0.1557 - val_accuracy: 0.9505\n",
            "Epoch 14/15\n",
            "106/106 [==============================] - 16s 147ms/step - loss: 0.2397 - accuracy: 0.9248 - val_loss: 0.1242 - val_accuracy: 0.9599\n",
            "Epoch 15/15\n",
            "106/106 [==============================] - 21s 200ms/step - loss: 0.2877 - accuracy: 0.9124 - val_loss: 0.1174 - val_accuracy: 0.9646\n"
          ]
        }
      ]
    },
    {
      "cell_type": "code",
      "source": [
        "#val accuracy \n",
        "plt.figure(0)\n",
        "plt.plot(val_history.history['accuracy'], label='training accuracy')\n",
        "plt.plot(val_history.history['val_accuracy'], label=' accuracy')\n",
        "plt.title('Accuracy')\n",
        "plt.xlabel('epochs')\n",
        "plt.ylabel('accuracy')\n",
        "plt.legend()\n",
        "plt.show()"
      ],
      "metadata": {
        "colab": {
          "base_uri": "https://localhost:8080/",
          "height": 295
        },
        "id": "ohGt1OWauBwt",
        "outputId": "46c83aa2-1c27-4794-a02d-82429798b394"
      },
      "execution_count": 21,
      "outputs": [
        {
          "output_type": "display_data",
          "data": {
            "text/plain": [
              "<Figure size 432x288 with 1 Axes>"
            ],
            "image/png": "[encoded data removed]"
          },
          "metadata": {
            "needs_background": "light"
          }
        }
      ]
    },
    {
      "cell_type": "code",
      "source": [
        "#val Loss\n",
        "\n",
        "plt.plot(val_history.history['loss'], label='training loss')\n",
        "plt.plot(val_history.history['val_loss'], label='validation loss')\n",
        "plt.title('Loss')\n",
        "plt.xlabel('epochs')\n",
        "plt.ylabel('loss')\n",
        "plt.legend()\n",
        "plt.show()"
      ],
      "metadata": {
        "colab": {
          "base_uri": "https://localhost:8080/",
          "height": 295
        },
        "id": "V-i6OuScuB1s",
        "outputId": "4d18b728-8915-4a8b-928b-afd14ed1b90e"
      },
      "execution_count": 22,
      "outputs": [
        {
          "output_type": "display_data",
          "data": {
            "text/plain": [
              "<Figure size 432x288 with 1 Axes>"
            ],
            "image/png": "[encoded data removed]"
          },
          "metadata": {
            "needs_background": "light"
          }
        }
      ]
    },
    {
      "cell_type": "code",
      "source": [
        "#test accuracy \n",
        "plt.figure(0)\n",
        "plt.plot(test_history.history['accuracy'], label='training accuracy')\n",
        "plt.plot(test_history.history['val_accuracy'], label='test accuracy')\n",
        "plt.title('Accuracy')\n",
        "plt.xlabel('epochs')\n",
        "plt.ylabel('accuracy')\n",
        "plt.legend()\n",
        "plt.show()"
      ],
      "metadata": {
        "colab": {
          "base_uri": "https://localhost:8080/",
          "height": 295
        },
        "id": "mK5zX39_DtzG",
        "outputId": "937fe55c-2e24-4c19-f99a-e4bd215c1fe8"
      },
      "execution_count": 23,
      "outputs": [
        {
          "output_type": "display_data",
          "data": {
            "text/plain": [
              "<Figure size 432x288 with 1 Axes>"
            ],
            "image/png": "[encoded data removed]"
          },
          "metadata": {
            "needs_background": "light"
          }
        }
      ]
    },
    {
      "cell_type": "code",
      "source": [
        "#test Loss\n",
        "\n",
        "plt.plot(test_history.history['loss'], label='training loss')\n",
        "plt.plot(test_history.history['val_loss'], label='test loss')\n",
        "plt.title('Loss')\n",
        "plt.xlabel('epochs')\n",
        "plt.ylabel('loss')\n",
        "plt.legend()\n",
        "plt.show()"
      ],
      "metadata": {
        "colab": {
          "base_uri": "https://localhost:8080/",
          "height": 295
        },
        "id": "f9hJ4nsCD4ID",
        "outputId": "bdcfc9b8-a5ff-4183-f13c-a73730d3b9fd"
      },
      "execution_count": 24,
      "outputs": [
        {
          "output_type": "display_data",
          "data": {
            "text/plain": [
              "<Figure size 432x288 with 1 Axes>"
            ],
            "image/png": "[encoded data removed]"
          },
          "metadata": {
            "needs_background": "light"
          }
        }
      ]
    },
    {
      "cell_type": "markdown",
      "source": [
        "Lets predict our test set results"
      ],
      "metadata": {
        "id": "7bfprlAljnGT"
      }
    },
    {
      "cell_type": "code",
      "source": [
        "test_set_Predictions = []\n",
        "for i in model.predict(X_test):\n",
        "  test_set_Predictions.append(np.argmax(i))\n",
        "\n",
        "test_set_Predictions = np.array(test_set_Predictions)\n"
      ],
      "metadata": {
        "id": "Zx06dsfBgjOW"
      },
      "execution_count": 25,
      "outputs": []
    },
    {
      "cell_type": "code",
      "source": [
        "test_set_Predictions"
      ],
      "metadata": {
        "id": "RFX8BBR8itfs",
        "colab": {
          "base_uri": "https://localhost:8080/"
        },
        "outputId": "38e2871e-5264-49a9-bbe3-66bed73cc094"
      },
      "execution_count": 26,
      "outputs": [
        {
          "output_type": "execute_result",
          "data": {
            "text/plain": [
              "array([12, 12, 12, 12, 12, 12, 12, 12, 12, 12, 40, 12, 12, 12, 12, 12, 12,\n",
              "       12, 12, 12, 12, 12, 12, 12, 12, 12, 12, 12, 12, 12, 12, 12, 12, 12,\n",
              "       12, 12, 12, 12, 12, 12, 12, 12, 12, 12, 40, 12, 12, 12, 12, 12, 12,\n",
              "       12, 40, 40, 12, 12, 12, 12, 12, 40, 12, 12, 12, 12, 12, 12, 12, 12,\n",
              "       12, 12, 12, 12, 12, 12, 12, 12, 12, 40, 12, 12, 12, 12, 12, 40, 12,\n",
              "       12, 12, 40, 12, 12, 12, 12, 12, 12, 12, 12, 12, 12, 12, 12, 12, 12,\n",
              "       12, 12, 12, 12, 12, 12, 12, 12, 12, 12, 12, 12, 40, 12, 12, 12, 12,\n",
              "       12, 12, 12, 12, 12, 12, 12, 12, 12, 12, 12, 12, 12, 12, 12, 12, 12,\n",
              "       40, 12, 12, 12, 12, 12, 12, 12, 12, 12, 12, 12, 12, 12, 12, 12, 12,\n",
              "       12, 12, 12, 12, 12, 12, 12, 12, 12, 12, 12, 12, 40, 12, 12, 12, 12,\n",
              "       12, 12, 12, 12, 12, 12, 12, 12, 12, 12, 12, 12, 12, 12, 12, 12, 12,\n",
              "       12, 12, 40, 12, 12, 12, 40, 12, 12, 12, 12, 12, 12, 12, 12, 12, 12,\n",
              "       12, 12, 12, 12, 12, 12, 12, 12, 12, 12, 12, 12, 12, 40, 12, 12, 12,\n",
              "       12, 12, 12, 12, 12, 12, 12, 12, 12, 12, 12, 12, 12, 40, 12, 12, 12,\n",
              "       12, 12, 12, 12, 12, 12, 12, 12, 12, 12, 12, 12, 40, 12, 12, 12, 12,\n",
              "       12, 12, 12, 12, 12, 12, 12, 12, 12, 12, 12, 12, 40, 12, 12, 12, 12,\n",
              "       12, 12, 12, 12, 12, 12, 12, 12, 12, 12, 12, 12, 40, 40, 12, 12, 12,\n",
              "       12, 12, 12, 12, 12, 12, 12, 12, 12, 12, 12, 12, 12, 12, 12, 12, 12,\n",
              "       12, 12, 12, 40, 12, 12, 12, 12, 12, 12, 12, 12, 12, 12, 12, 12, 12,\n",
              "       12, 40, 12, 12, 12, 12, 12, 12, 12, 12, 12, 12, 12, 12, 12, 12, 12,\n",
              "       12, 12, 12, 12, 12, 12, 12, 12, 12, 12, 12, 12, 12, 12, 12, 12, 12,\n",
              "       12, 12, 12, 12, 12, 12, 12, 12, 12, 12, 12, 12, 12, 12, 12, 12, 12,\n",
              "       12, 12, 12, 12, 12, 12, 12, 12, 12, 12, 12, 12, 12, 12, 12, 12, 12,\n",
              "       12, 40, 40, 12, 12, 12, 12, 12, 12, 12, 12, 12, 12, 12, 12, 12, 12,\n",
              "       12, 12, 12, 12, 12, 12, 12, 12, 40, 12, 12, 12, 12, 12, 12, 12])"
            ]
          },
          "metadata": {},
          "execution_count": 26
        }
      ]
    },
    {
      "cell_type": "markdown",
      "source": [
        "**y_test is in one hot encoded form and hence to check the accuracy score between y_test and test_set_Predictions, we have to one hot encode test_set_Predictions too**"
      ],
      "metadata": {
        "id": "wdjAJYd7jFof"
      }
    },
    {
      "cell_type": "code",
      "source": [
        "test_set_Predictions = to_categorical(test_set_Predictions,58) "
      ],
      "metadata": {
        "id": "bsQ_R7IqWXA_"
      },
      "execution_count": 27,
      "outputs": []
    },
    {
      "cell_type": "code",
      "source": [
        "from sklearn.metrics import accuracy_score"
      ],
      "metadata": {
        "id": "hKgGL9LWilQE"
      },
      "execution_count": null,
      "outputs": []
    },
    {
      "cell_type": "markdown",
      "source": [
        "The final accuracy score comparing the predictions made for the test set to the actual results of the test set"
      ],
      "metadata": {
        "id": "FhnQ7TFNi1PS"
      }
    },
    {
      "cell_type": "code",
      "source": [
        "accuracy_score(y_test, test_set_Predictions)"
      ],
      "metadata": {
        "colab": {
          "base_uri": "https://localhost:8080/"
        },
        "id": "mkzrm5RgiU-L",
        "outputId": "e7f57bb4-1bce-46eb-ee93-04f8e1b5ff23"
      },
      "execution_count": 28,
      "outputs": [
        {
          "output_type": "execute_result",
          "data": {
            "text/plain": [
              "0.01179245283018868"
            ]
          },
          "metadata": {},
          "execution_count": 28
        }
      ]
    }
  ]
}